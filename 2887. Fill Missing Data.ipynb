{
 "cells": [
  {
   "cell_type": "markdown",
   "id": "711124f2",
   "metadata": {},
   "source": [
    "### 2887. Fill Missing Data\n",
    "Solved\n",
    "Easy\n",
    "Companies\n",
    "Hint\n",
    "DataFrame products\n",
    "+-------------+--------+\n",
    "| Column Name | Type   |\n",
    "+-------------+--------+\n",
    "| name        | object |\n",
    "| quantity    | int    |\n",
    "| price       | int    |\n",
    "+-------------+--------+\n",
    "Write a solution to fill in the missing value as 0 in the quantity column.\n",
    "\n",
    "The result format is in the following example."
   ]
  },
  {
   "cell_type": "code",
   "execution_count": null,
   "id": "3d689c35",
   "metadata": {},
   "outputs": [],
   "source": [
    "import pandas as pd\n",
    "\n",
    "def fillMissingValues(products: pd.DataFrame) -> pd.DataFrame:\n",
    "    products['quantity']=products['quantity'].fillna(0)\n",
    "    return products"
   ]
  }
 ],
 "metadata": {
  "kernelspec": {
   "display_name": "Python 3 (ipykernel)",
   "language": "python",
   "name": "python3"
  },
  "language_info": {
   "codemirror_mode": {
    "name": "ipython",
    "version": 3
   },
   "file_extension": ".py",
   "mimetype": "text/x-python",
   "name": "python",
   "nbconvert_exporter": "python",
   "pygments_lexer": "ipython3",
   "version": "3.10.9"
  }
 },
 "nbformat": 4,
 "nbformat_minor": 5
}
