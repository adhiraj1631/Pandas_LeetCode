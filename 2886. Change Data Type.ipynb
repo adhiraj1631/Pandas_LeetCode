{
 "cells": [
  {
   "cell_type": "markdown",
   "id": "cf45ccc3",
   "metadata": {},
   "source": [
    "### 2886. Change Data Type\n",
    "Easy\n",
    "Companies\n",
    "Hint\n",
    "DataFrame students\n",
    "+-------------+--------+\n",
    "| Column Name | Type   |\n",
    "+-------------+--------+\n",
    "| student_id  | int    |\n",
    "| name        | object |\n",
    "| age         | int    |\n",
    "| grade       | float  |\n",
    "+-------------+--------+\n",
    "Write a solution to correct the errors:\n",
    "\n",
    "The grade column is stored as floats, convert it to integers.\n",
    "\n",
    "The result format is in the following example."
   ]
  },
  {
   "cell_type": "code",
   "execution_count": null,
   "id": "08a12223",
   "metadata": {},
   "outputs": [],
   "source": [
    "import pandas as pd\n",
    "\n",
    "def changeDatatype(students: pd.DataFrame) -> pd.DataFrame:\n",
    "    students['grade']=students['grade'].astype('int')\n",
    "    return students"
   ]
  }
 ],
 "metadata": {
  "kernelspec": {
   "display_name": "Python 3 (ipykernel)",
   "language": "python",
   "name": "python3"
  },
  "language_info": {
   "codemirror_mode": {
    "name": "ipython",
    "version": 3
   },
   "file_extension": ".py",
   "mimetype": "text/x-python",
   "name": "python",
   "nbconvert_exporter": "python",
   "pygments_lexer": "ipython3",
   "version": "3.10.9"
  }
 },
 "nbformat": 4,
 "nbformat_minor": 5
}
