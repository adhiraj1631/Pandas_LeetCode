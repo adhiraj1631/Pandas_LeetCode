{
 "cells": [
  {
   "cell_type": "markdown",
   "id": "f01805df",
   "metadata": {},
   "source": [
    "### 2879. Display the First Three Rows\n",
    "DataFrame: employees\n",
    "+-------------+--------+\n",
    "| Column Name | Type   |\n",
    "+-------------+--------+\n",
    "| employee_id | int    |\n",
    "| name        | object |\n",
    "| department  | object |\n",
    "| salary      | int    |\n",
    "+-------------+--------+\n",
    "Write a solution to display the first 3 rows of this DataFrame."
   ]
  },
  {
   "cell_type": "code",
   "execution_count": null,
   "id": "c4bd0b2b",
   "metadata": {},
   "outputs": [],
   "source": [
    "import pandas as pd\n",
    "\n",
    "def selectFirstRows(employees: pd.DataFrame) -> pd.DataFrame:\n",
    "     return pd.DataFrame(employees.head(3))"
   ]
  }
 ],
 "metadata": {
  "kernelspec": {
   "display_name": "Python 3 (ipykernel)",
   "language": "python",
   "name": "python3"
  },
  "language_info": {
   "codemirror_mode": {
    "name": "ipython",
    "version": 3
   },
   "file_extension": ".py",
   "mimetype": "text/x-python",
   "name": "python",
   "nbconvert_exporter": "python",
   "pygments_lexer": "ipython3",
   "version": "3.10.9"
  }
 },
 "nbformat": 4,
 "nbformat_minor": 5
}
