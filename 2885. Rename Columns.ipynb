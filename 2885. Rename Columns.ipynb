{
 "cells": [
  {
   "cell_type": "markdown",
   "id": "623db2a7",
   "metadata": {},
   "source": [
    "### 2885. Rename Columns\n",
    "Easy\n",
    "Companies\n",
    "Hint\n",
    "DataFrame students\n",
    "+-------------+--------+\n",
    "| Column Name | Type   |\n",
    "+-------------+--------+\n",
    "| id          | int    |\n",
    "| first       | object |\n",
    "| last        | object |\n",
    "| age         | int    |\n",
    "+-------------+--------+\n",
    "Write a solution to rename the columns as follows:\n",
    "\n",
    "id to student_id\n",
    "first to first_name\n",
    "last to last_name\n",
    "age to age_in_years\n",
    "The result format is in the following example"
   ]
  },
  {
   "cell_type": "code",
   "execution_count": null,
   "id": "38156683",
   "metadata": {},
   "outputs": [],
   "source": [
    "import pandas as pd\n",
    "\n",
    "def renameColumns(students: pd.DataFrame) -> pd.DataFrame:\n",
    "    students=students.rename(columns={'id':'student_id','first':'first_name','last':'last_name','age':'age_in_years'})\n",
    "    return students"
   ]
  }
 ],
 "metadata": {
  "kernelspec": {
   "display_name": "Python 3 (ipykernel)",
   "language": "python",
   "name": "python3"
  },
  "language_info": {
   "codemirror_mode": {
    "name": "ipython",
    "version": 3
   },
   "file_extension": ".py",
   "mimetype": "text/x-python",
   "name": "python",
   "nbconvert_exporter": "python",
   "pygments_lexer": "ipython3",
   "version": "3.10.9"
  }
 },
 "nbformat": 4,
 "nbformat_minor": 5
}
