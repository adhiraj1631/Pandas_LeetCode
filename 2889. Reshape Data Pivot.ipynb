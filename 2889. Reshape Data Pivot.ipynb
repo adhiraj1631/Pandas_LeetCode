{
 "cells": [
  {
   "cell_type": "markdown",
   "id": "d99ceae1",
   "metadata": {},
   "source": [
    "### 2889. Reshape Data: Pivot\n",
    "Solved\n",
    "Easy\n",
    "Companies\n",
    "Hint\n",
    "DataFrame weather\n",
    "+-------------+--------+\n",
    "| Column Name | Type   |\n",
    "+-------------+--------+\n",
    "| city        | object |\n",
    "| month       | object |\n",
    "| temperature | int    |\n",
    "+-------------+--------+\n",
    "Write a solution to pivot the data so that each row represents temperatures for a specific month, and each city is a separate column.\n",
    "\n",
    "The result format is in the following example."
   ]
  },
  {
   "cell_type": "code",
   "execution_count": null,
   "id": "249703f7",
   "metadata": {},
   "outputs": [],
   "source": [
    "import pandas as pd\n",
    "\n",
    "def pivotTable(weather: pd.DataFrame) -> pd.DataFrame:\n",
    "    return weather.pivot(index='month', columns='city', values='temperature')"
   ]
  }
 ],
 "metadata": {
  "kernelspec": {
   "display_name": "Python 3 (ipykernel)",
   "language": "python",
   "name": "python3"
  },
  "language_info": {
   "codemirror_mode": {
    "name": "ipython",
    "version": 3
   },
   "file_extension": ".py",
   "mimetype": "text/x-python",
   "name": "python",
   "nbconvert_exporter": "python",
   "pygments_lexer": "ipython3",
   "version": "3.10.9"
  }
 },
 "nbformat": 4,
 "nbformat_minor": 5
}
