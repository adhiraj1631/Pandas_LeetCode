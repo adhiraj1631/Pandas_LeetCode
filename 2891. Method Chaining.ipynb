{
 "cells": [
  {
   "cell_type": "markdown",
   "id": "04df9742",
   "metadata": {},
   "source": [
    "### 2891. Method Chaining\n",
    "Solved\n",
    "Easy\n",
    "Companies\n",
    "DataFrame animals\n",
    "+-------------+--------+\n",
    "| Column Name | Type   |\n",
    "+-------------+--------+\n",
    "| name        | object |\n",
    "| species     | object |\n",
    "| age         | int    |\n",
    "| weight      | int    |\n",
    "+-------------+--------+\n",
    "Write a solution to list the names of animals that weigh strictly more than 100 kilograms.\n",
    "\n",
    "Return the animals sorted by weight in descending order.\n",
    "\n",
    "The result format is in the following example."
   ]
  },
  {
   "cell_type": "code",
   "execution_count": null,
   "id": "a283a4a2",
   "metadata": {},
   "outputs": [],
   "source": [
    "import pandas as pd\n",
    "\n",
    "def findHeavyAnimals(animals: pd.DataFrame) -> pd.DataFrame:\n",
    "     return animals[animals['weight'] > 100].sort_values('weight', ascending=False)[\n",
    "        ['name']\n",
    "    ]"
   ]
  }
 ],
 "metadata": {
  "kernelspec": {
   "display_name": "Python 3 (ipykernel)",
   "language": "python",
   "name": "python3"
  },
  "language_info": {
   "codemirror_mode": {
    "name": "ipython",
    "version": 3
   },
   "file_extension": ".py",
   "mimetype": "text/x-python",
   "name": "python",
   "nbconvert_exporter": "python",
   "pygments_lexer": "ipython3",
   "version": "3.10.9"
  }
 },
 "nbformat": 4,
 "nbformat_minor": 5
}
