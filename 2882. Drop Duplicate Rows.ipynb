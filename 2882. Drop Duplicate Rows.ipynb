{
 "cells": [
  {
   "cell_type": "markdown",
   "id": "edcbca0d",
   "metadata": {},
   "source": [
    "### 2882. Drop Duplicate Rows\n",
    "Easy\n",
    "Companies\n",
    "Hint\n",
    "DataFrame customers\n",
    "+-------------+--------+\n",
    "| Column Name | Type   |\n",
    "+-------------+--------+\n",
    "| customer_id | int    |\n",
    "| name        | object |\n",
    "| email       | object |\n",
    "+-------------+--------+\n",
    "There are some duplicate rows in the DataFrame based on the email column.\n",
    "\n",
    "Write a solution to remove these duplicate rows and keep only the first occurrence.\n",
    "\n",
    "The result format is in the following example."
   ]
  },
  {
   "cell_type": "code",
   "execution_count": null,
   "id": "51983715",
   "metadata": {},
   "outputs": [],
   "source": [
    "import pandas as pd\n",
    "\n",
    "def dropDuplicateEmails(customers: pd.DataFrame) -> pd.DataFrame:\n",
    "    customers['email']=customers['email'].drop_duplicates(keep='first')\n",
    "    customers=customers.dropna()\n",
    "    return customers"
   ]
  }
 ],
 "metadata": {
  "kernelspec": {
   "display_name": "Python 3 (ipykernel)",
   "language": "python",
   "name": "python3"
  },
  "language_info": {
   "codemirror_mode": {
    "name": "ipython",
    "version": 3
   },
   "file_extension": ".py",
   "mimetype": "text/x-python",
   "name": "python",
   "nbconvert_exporter": "python",
   "pygments_lexer": "ipython3",
   "version": "3.10.9"
  }
 },
 "nbformat": 4,
 "nbformat_minor": 5
}
